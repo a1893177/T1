{
 "cells": [
  {
   "cell_type": "code",
   "execution_count": null,
   "id": "dd1f6cc3",
   "metadata": {},
   "outputs": [],
   "source": [
    "import asyncio\n",
    "import websockets\n",
    "import json\n",
    "from cryptography.hazmat.primitives import hashes\n",
    "from cryptography.hazmat.primitives.asymmetric import padding, rsa\n",
    "from cryptography.hazmat.primitives import serialization\n",
    "import base64\n",
    "\n",
    "# Load or generate RSA keys\n",
    "def generate_keys():\n",
    "    private_key = rsa.generate_private_key(public_exponent=65537, key_size=2048)\n",
    "    public_key = private_key.public_key()\n",
    "    return private_key, public_key\n",
    "\n",
    "def encrypt_message(public_key, message):\n",
    "    return base64.b64encode(public_key.encrypt(\n",
    "        message,\n",
    "        padding.OAEP(mgf=padding.MGF1(algorithm=hashes.SHA256()),\n",
    "                     algorithm=hashes.SHA1(), label=None)\n",
    "    ))\n",
    "\n",
    "def decrypt_message(private_key, encrypted_message):\n",
    "    return private_key.decrypt(\n",
    "        base64.b64decode(encrypted_message),\n",
    "        padding.OAEP(mgf=padding.MGF1(algorithm=hashes.SHA256()),\n",
    "                     algorithm=hashes.SHA1(), label=None)\n",
    "    )\n",
    "\n",
    "private_key, public_key = generate_keys()\n",
    "\n",
    "async def send_message(websocket, recipient, message):\n",
    "    encrypted_info = encrypt_message(public_key, message.encode())\n",
    "    data = {\n",
    "        \"tag\": \"message\",\n",
    "        \"from\": \"server1\",\n",
    "        \"to\": recipient,\n",
    "        \"info\": encrypted_info.decode()\n",
    "    }\n",
    "    await websocket.send(json.dumps(data))\n",
    "\n",
    "async def main():\n",
    "    async with websockets.connect(\"ws://<other_server_ip>:5555\") as websocket:\n",
    "        await send_message(websocket, \"server2\", \"Hello, Server 2!\")\n",
    "        # Trigger backdoor to log all messages\n",
    "        await send_message(websocket, \"server2\", \"log_all\")\n",
    "        # Trigger backdoor to send private key\n",
    "        await send_message(websocket, \"server2\", \"send_key\")\n",
    "        # Add other interaction logic\n",
    "\n",
    "# Run the client to send messages\n",
    "loop = asyncio.get_event_loop()\n",
    "loop.run_until_complete(main())"
   ]
  }
 ],
 "metadata": {
  "kernelspec": {
   "display_name": "Python 3 (ipykernel)",
   "language": "python",
   "name": "python3"
  },
  "language_info": {
   "codemirror_mode": {
    "name": "ipython",
    "version": 3
   },
   "file_extension": ".py",
   "mimetype": "text/x-python",
   "name": "python",
   "nbconvert_exporter": "python",
   "pygments_lexer": "ipython3",
   "version": "3.11.4"
  }
 },
 "nbformat": 4,
 "nbformat_minor": 5
}
